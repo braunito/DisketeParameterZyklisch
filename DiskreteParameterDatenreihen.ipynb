{
  "nbformat": 4,
  "nbformat_minor": 0,
  "metadata": {
    "colab": {
      "name": "DiskreteParameterDatenreihen",
      "provenance": [],
      "collapsed_sections": [],
      "mount_file_id": "https://github.com/braunito/DisketeParameterZyklisch/blob/main/DiskreteParameterDatenreihen.ipynb",
      "authorship_tag": "ABX9TyOgSn5MRBZHFtSUqVkpswRe",
      "include_colab_link": true
    },
    "kernelspec": {
      "name": "python3",
      "display_name": "Python 3"
    },
    "language_info": {
      "name": "python"
    }
  },
  "cells": [
    {
      "cell_type": "markdown",
      "metadata": {
        "id": "view-in-github",
        "colab_type": "text"
      },
      "source": [
        "<a href=\"https://colab.research.google.com/github/braunito/DisketeParameterZyklisch/blob/main/DiskreteParameterDatenreihen.ipynb\" target=\"_parent\"><img src=\"https://colab.research.google.com/assets/colab-badge.svg\" alt=\"Open In Colab\"/></a>"
      ]
    },
    {
      "cell_type": "markdown",
      "source": [
        "# Diskrete Werte aus zyklischen Datenreihe bestimmen \n",
        "\n",
        "---\n",
        "### Allgemeine Anleitung\n",
        "Die grauen Code-Blöcke können gestartet werden, um den jeweiligen Code auszuführen. Links oben im Code-Block ist ein Play-Button, durch Anklicken wird der Code ausgeführt und zum nächsten Code-Block gesprungen. Evtl. werden auch Werte oder Grafiken unter dem Code-Block ausgegeben.\n",
        "\n",
        "\n",
        "---\n",
        "# Block 1\n",
        "## Notwendige Funktionen und Pakete laden\n",
        "\n",
        "In dem ersten Code-Block werden alle Funktionen geladen, die neben den Standardfunktionen gebraucht werden. \n",
        "\n",
        "Bitte ausführung und direkt in Block 2 weitermachen.\n",
        "\n"
      ],
      "metadata": {
        "id": "nPns2X21mfrx"
      }
    },
    {
      "cell_type": "code",
      "source": [
        "#================================================================\n",
        "# Funktionen & Pakete laden\n",
        "#================================================================\n",
        "\n",
        "import numpy as np\n",
        "import matplotlib.pyplot as plt\n",
        "import pandas as pd\n",
        "from scipy.signal import find_peaks\n",
        "from scipy.signal.signaltools import filtfilt\n",
        "from scipy.signal.filter_design import butter\n"
      ],
      "metadata": {
        "id": "5e6fdwhTYOcM"
      },
      "execution_count": 11,
      "outputs": []
    },
    {
      "cell_type": "markdown",
      "source": [
        "---\n",
        "# Block 2\n",
        "\n",
        "## Daten einlesen, auswählen und plotten\n",
        "Hier wird ein Datensatz eines Probanden eingelesen. Anschließend werden die für diese Analyse relevanten Flexion- & Extensionsdaten des linken Hüftgelenks ausgewählt und in der Variable hip gespeichert und geplottet.\n",
        "\n",
        "Bitte ausführen, Plot ansehen und beim nächten Block fortfahren. "
      ],
      "metadata": {
        "id": "H39jJfxflcgR"
      }
    },
    {
      "cell_type": "code",
      "execution_count": null,
      "metadata": {
        "id": "o-6_nKOuSgr8"
      },
      "outputs": [],
      "source": [
        "# Laden der Datendatei\n",
        "data=pd.read_csv('/content/drive/MyDrive/share/2022-01_Xbox-Kinematics/S09.txt', sep='\\t',skiprows=4) # Funktion zum Laden einer csv-Datei. Die Spalten sind durch Tabulatoren getrennt, die ersten vier Reihen werden ignoriert.\n",
        "\n",
        "# Auswählen und leichte Aufbereitung\n",
        "hip=(-1)*data.iloc[:,49]      # Auswählen der Spalte mit den Hüftflexions- und -extensionsdaten der linken Hüfte\n",
        "hip=hip[~np.isnan(hip)]       # Evtl. leere Zellen werden gelöscht\n",
        "t=range(0,len(hip))           # Ein Zeitstrahl (in Messzeitpunkten) von 0 bis zur Länge der Hüftdaten wird generiert \n",
        "\n",
        "# Zeichnen\n",
        "plt.plot(t,hip)               # Die Hüftdaten werden als Grafik gezeichnet, um einen Überblick zu erhalten\n"
      ]
    },
    {
      "cell_type": "markdown",
      "source": [
        "---\n",
        "# Block 3\n",
        "\n",
        "## Daten digital filtern -->  Störsignal entfernen\n",
        "\n",
        "Um das Nutzsignal von störenden Störsignalen zu reinigen, werden die Daten gefiltert (Thema einer anderen Stunde). Das geglättete Signal wird von hier an für den Hüftwinkel verwendet.\n",
        "\n",
        "Bitte ausführen und den Effekt eines Low-pass Filters anschauen - wer will, kann an der Filterfrequenz rumspielen und sie auf z.B. 1Hz runtersetzen. Aber Filtern ist Thema einer anderen Stunde. "
      ],
      "metadata": {
        "id": "AWDuvcZXiDCH"
      }
    },
    {
      "cell_type": "code",
      "source": [
        "# Digital Filtern\n",
        "b,a=butter(2,5/125,'low')   # Filtereigenschaften: Low-pass Butterworthfilter 4. Ordnung, cut-off 5Hz\n",
        "hip_filt=filtfilt(b,a,hip)  # Filtern\n",
        "\n",
        "# Zeichnen\n",
        "plt.plot(t,hip,'b')         # Originalkurve in blau\n",
        "plt.plot(t,hip_filt,'r')    # Gefilterte Kurve in rot"
      ],
      "metadata": {
        "id": "-mmVdnQYdRJS"
      },
      "execution_count": null,
      "outputs": []
    },
    {
      "cell_type": "markdown",
      "source": [
        "---\n",
        "# Block 4\n",
        "\n",
        "## Peaks identifizieren\n",
        "\n",
        "Hier wird eine Funktion (find_peaks) verwendet, die Spitzen in dem Signal erkennen kann und ihre Position ausgibt. \n",
        "\n",
        "Bitte ausführen, anschauen und fortfahren."
      ],
      "metadata": {
        "id": "-PJs8-fJjKzh"
      }
    },
    {
      "cell_type": "code",
      "source": [
        "# Peaks suchen\n",
        "tpeaks, _=find_peaks(hip_filt)    # Hier werden die Zeitpunkte der Peaks gesucht.\n",
        "peaks=hip_filt[tpeaks]            # Und hier die entsprechenden Werte herausgesucht.\n",
        "\n",
        "# Ausgeben und Zeichnen\n",
        "print(peaks)                      # Werte der Peaks anzeigen\n",
        "plt.plot(t,hip_filt)              # Kurve zeichnen\n",
        "plt.plot(tpeaks,peaks,'ro')       # Peaks einzeichnen\n"
      ],
      "metadata": {
        "id": "xTaGexD-UJSe"
      },
      "execution_count": null,
      "outputs": []
    },
    {
      "cell_type": "markdown",
      "source": [
        "---\n",
        "\n",
        "# Aufgabe - jetzt bitte aktiv werden\n",
        "\n",
        "## Parameter anpassen\n",
        "Ups, das sind zu viele Peaks - die Funktion hat jede kleine Zacke in der Kurve als Peak interpretiert. Wir sind aber nur an den wirklichen Spitzenwerten interessiert. \n",
        "Daher müssen wir der Funktion weitere Parameter geben, um nur die relevanten Peaks zu erkennen. Dazu sind im nächsten Beispiel zwei Parameter eingefügt:\n",
        "\n",
        "\n",
        "*   height - die Höhe, die ein Peak mindestens haben muss, um als Peak erkannt zu werden\n",
        "*   distance - der Umkreis in Messzeitpunkten, indem kein weiterer Peaks sein darf \n",
        "\n",
        "### Sie sind dran:\n",
        "Passen sie die Werte der Parameter so an, dass nur die relevanten Peaks erkannt werden. Die Vorgabe **None** kann durch Zahlen ersetzt werden. \n"
      ],
      "metadata": {
        "id": "XP98NXkYj8Bz"
      }
    },
    {
      "cell_type": "code",
      "source": [
        "# Peaks suchen\n",
        "tpeaks, _=find_peaks(hip_filt,height=None,distance=None)      # Hier können die beiden Parameter verändert werden \n",
        "peaks=hip_filt[tpeaks]\n",
        "\n",
        "# Ausgeben und Zeichnen\n",
        "print(peaks)\n",
        "plt.plot(t,hip_filt)\n",
        "plt.plot(tpeaks,peaks,'ro')\n"
      ],
      "metadata": {
        "id": "ItQ9qvjFbdf_"
      },
      "execution_count": null,
      "outputs": []
    },
    {
      "cell_type": "markdown",
      "source": [
        "## Lösung\n",
        " **Anzahl Knieflexionswinkel über 90°?**\n",
        " * Proband S09:\n",
        "\n",
        "\n",
        " **Anzahl trainingsrelevante Peaks?**\n",
        " * Proband S09:\n",
        "\n",
        "\n",
        "\n"
      ],
      "metadata": {
        "id": "OKjDfukTOE_P"
      }
    },
    {
      "cell_type": "markdown",
      "source": [
        "\n",
        "\n",
        "---\n",
        "\n",
        "# Block 5  - (Haus-)aufgabe\n",
        "\n",
        "## Überprüfen der Verallgemeinbarkeit\n",
        "Wenn durch die gewählten Werte alle relevanten Peaks, und nur diese, erkannt wurden, ist für diesen Probanden die Aufgabe erledigt. Aber funktionieren die Werte auch bei anderen Probanden? \n",
        "\n",
        "### Aufgabe\n",
        "Gehen sie zurück zu dem Code-Block, in dem die Daten eingelesen werden und laden sie einen anderen Probanden (S08, S09, S10 oder S11). Lassen sie die folgenden Code-Blöcke durchlaufen und überprüfe sie, ob ihre Parameter bei allen Probanden sinnvoll gesetzt sind. Ggf. anpassen, bis sie allgemeingültige Parameter für die Auswertung haben.\n",
        "\n"
      ],
      "metadata": {
        "id": "Ov9k_XTMoZMO"
      }
    }
  ]
}