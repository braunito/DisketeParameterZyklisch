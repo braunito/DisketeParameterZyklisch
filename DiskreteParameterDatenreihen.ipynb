{
  "nbformat": 4,
  "nbformat_minor": 0,
  "metadata": {
    "colab": {
      "name": "DiskreteParameterDatenreihen",
      "provenance": [],
      "collapsed_sections": [],
      "mount_file_id": "1k68B4OYlus5Y_L3YUXbUfcTXFx_BpsXB",
      "authorship_tag": "ABX9TyP9cY/v7hN66E383oZJWL9Q",
      "include_colab_link": true
    },
    "kernelspec": {
      "name": "python3",
      "display_name": "Python 3"
    },
    "language_info": {
      "name": "python"
    }
  },
  "cells": [
    {
      "cell_type": "markdown",
      "metadata": {
        "id": "view-in-github",
        "colab_type": "text"
      },
      "source": [
        "<a href=\"https://colab.research.google.com/github/braunito/DisketeParameterZyklisch/blob/main/DiskreteParameterDatenreihen.ipynb\" target=\"_parent\"><img src=\"https://colab.research.google.com/assets/colab-badge.svg\" alt=\"Open In Colab\"/></a>"
      ]
    },
    {
      "cell_type": "markdown",
      "source": [
        "# Diskrete Werte aus zyklischen Datenreihe bestimmen \n",
        "\n",
        "---\n",
        "\n",
        "## Notwendige Funktionen und Pakete laden\n",
        "\n",
        "In dem ersten Code-Abschnitt werden alle Funktionen geladen, die neben den Standardfunktionen gebraucht werden.\n",
        "\n",
        "### Aufgabe\n",
        "Die grauen Code-Schnipsel können gestartet werden, um den Code auszuführen. Links oben im Kasten ist ein Play-Button, durch Anklicken wird der Code ausgeführt und zur nächsten Zelle gesprungen. Evtl. werden auch Werte oder Grafiken unter der Code-Zelle ausgegeben.\n",
        "Lassen sie die erste Zelle ausführen und lesen sie dann darunter weiter. "
      ],
      "metadata": {
        "id": "nPns2X21mfrx"
      }
    },
    {
      "cell_type": "code",
      "source": [
        "#================================================================\n",
        "# Funktionen und Pakete laden\n",
        "#================================================================\n",
        "\n",
        "import numpy as np\n",
        "import matplotlib.pyplot as plt\n",
        "import pandas as pd\n",
        "from scipy.signal import find_peaks\n",
        "from scipy.signal.signaltools import filtfilt\n",
        "from scipy.signal.filter_design import butter\n"
      ],
      "metadata": {
        "id": "5e6fdwhTYOcM"
      },
      "execution_count": 7,
      "outputs": []
    },
    {
      "cell_type": "markdown",
      "source": [
        "---\n",
        "\n",
        "## Daten einlesen und auswählen\n",
        "Hier wird ein Datensatz eines Probanden eingelesen. Anschließend werden die für diese Analyse relevanten Flexion- & Extensionsdaten des linken Hüftgelenks ausgewählt und in der Variable hip gespeichert."
      ],
      "metadata": {
        "id": "H39jJfxflcgR"
      }
    },
    {
      "cell_type": "code",
      "execution_count": null,
      "metadata": {
        "id": "o-6_nKOuSgr8"
      },
      "outputs": [],
      "source": [
        "# Laden der Datendatei\n",
        "data=pd.read_csv('/content/drive/MyDrive/share/2022-01_Xbox-Kinematics/S08.txt', sep='\\t',skiprows=4) # Funktion zum Laden einer csv-Datei. Die Spalten sind durch Tabulatoren getrennt, die ersten vier Reihen werden ignoriert.\n",
        "\n",
        "# Auswählen und leichte Aufbereitung\n",
        "hip=(-1)*data.iloc[:,49]      # Auswählen der Spalte mit den Hüftflexions- und -extensionsdaten der linken Hüfte\n",
        "hip=hip[~np.isnan(hip)]       # Evtl. leere Zellen werden gelöscht\n",
        "t=range(0,len(hip))           # Ein Zeitstrahl (in Messzeitpunkten) von 0 bis zur Länge der Hüftdaten wird generiert \n",
        "\n",
        "# Zeichnen\n",
        "plt.plot(t,hip)               # Die Hüftdaten werden als Grafik gezeichnet, um einen Überblick zu erhalten\n"
      ]
    },
    {
      "cell_type": "markdown",
      "source": [
        "---\n",
        "\n",
        "## Daten digital gefiltert\n",
        "\n",
        "Um das Nutzsignal von störenden Störsignalen zu reinigen, werden die Daten gefiltert (Thema einer anderen Stunde). Das geglättete Signal wird von hier an für den Hüftwinkel verwendet."
      ],
      "metadata": {
        "id": "AWDuvcZXiDCH"
      }
    },
    {
      "cell_type": "code",
      "source": [
        "# Digital Filtern\n",
        "b,a=butter(2,5/125,'low')   # Filtereigenschaften: Low-pass Butterworthfilter 4. Ordnung, cut-off 5Hz\n",
        "hip_filt=filtfilt(b,a,hip)  # Filtern\n",
        "\n",
        "# Zeichnen\n",
        "plt.plot(t,hip,'b')         # Originalkurve in blau\n",
        "plt.plot(t,hip_filt,'r')    # Gefilterte Kurve in rot"
      ],
      "metadata": {
        "id": "-mmVdnQYdRJS"
      },
      "execution_count": null,
      "outputs": []
    },
    {
      "cell_type": "markdown",
      "source": [
        "---\n",
        "\n",
        "## Die Suche nach den Peaks\n",
        "Hier wird eine Funktion (find_peaks) verwendet, die Spitzen in dem Signal erkennen kann und ihre Position ausgibt. "
      ],
      "metadata": {
        "id": "-PJs8-fJjKzh"
      }
    },
    {
      "cell_type": "code",
      "source": [
        "# Peaks suchen\n",
        "tpeaks, _=find_peaks(hip_filt)    # Hier werden die Zeitpunkte der Peaks gesucht.\n",
        "peaks=hip_filt[tpeaks]            # Und hier die entsprechenden Werte herausgesucht.\n",
        "\n",
        "# Ausgeben und Zeichnen\n",
        "print(peaks)                      # Werte der Peaks anzeigen\n",
        "plt.plot(t,hip_filt)              # Kurve zeichnen\n",
        "plt.plot(tpeaks,peaks,'ro')       # Peaks einzeichnen\n"
      ],
      "metadata": {
        "id": "xTaGexD-UJSe"
      },
      "execution_count": null,
      "outputs": []
    },
    {
      "cell_type": "markdown",
      "source": [
        "\n",
        "\n",
        "---\n",
        "\n",
        "\n",
        "\n",
        "## Parameter anpassen\n",
        "Ups, das sind zu viele Peaks, die Funktion hat jede kleine Zacke in der Kurve als Peak interpretiert. Wir sind aber nur an den wirklichen Spitzenwerten interessiert. \n",
        "Daher müssen wir der Funktion weitere Parameter geben, um nur die relevanten Peaks zu erkennen. Dazu sind im nächsten Beispiel zwei Parameter eingefügt:\n",
        "\n",
        "\n",
        "*   height - die Höhe, die ein Peak mindestens haben muss, um als Peak erkannt zu werden\n",
        "*   distance - der Umkreis in Messzeitpunkten, indem kein weiterer Peaks sein darf \n",
        "\n",
        "### Aufgabe\n",
        "Passen sie die Werte der Parameter so an, dass nur die relevanten Peaks erkannt werden. Die Vorgabe **None** kann durch Zahlen ersetzt werden. \n"
      ],
      "metadata": {
        "id": "XP98NXkYj8Bz"
      }
    },
    {
      "cell_type": "code",
      "source": [
        "# Peaks suchen\n",
        "tpeaks, _=find_peaks(hip_filt,height=None,distance=None)      # Hier können die beiden Parameter verändert werden \n",
        "peaks=hip_filt[tpeaks]\n",
        "\n",
        "# Ausgeben und Zeichnen\n",
        "print(peaks)\n",
        "plt.plot(t,hip_filt)\n",
        "plt.plot(tpeaks,peaks,'ro')\n"
      ],
      "metadata": {
        "id": "ItQ9qvjFbdf_"
      },
      "execution_count": null,
      "outputs": []
    },
    {
      "cell_type": "markdown",
      "source": [
        "## Lösung\n",
        " Wie waren die Spitzenwerte der Knieflexion für Probanden S09?\n",
        " **Maximale Knieflexionswinkel:**\n",
        " * Proband S09: \n"
      ],
      "metadata": {
        "id": "OKjDfukTOE_P"
      }
    },
    {
      "cell_type": "markdown",
      "source": [
        "\n",
        "\n",
        "---\n",
        "\n",
        "\n",
        "\n",
        "## Überprüfen der Verallgemeinbarkeit\n",
        "Wenn durch die gewählten Werte alle relevanten Peaks, und nur diese, erkannt wurden, ist für diesen Probanden die Aufgabe erledigt. Aber funktionieren die Werte auch bei anderen Probanden? \n",
        "\n",
        "Aufgabe\n",
        "Gehen sie zurück zu der Code-Zelle, in der die Daten eingelesen werden und laden sie einen anderen Probanden (S08, S09, S10 oder S11). Lassen sie die folgenden Code-Zellen durchlaufen und überprüfe sie, ob ihre Parameter bei allen Probanden sinnvoll gesetzt sind."
      ],
      "metadata": {
        "id": "Ov9k_XTMoZMO"
      }
    }
  ]
}